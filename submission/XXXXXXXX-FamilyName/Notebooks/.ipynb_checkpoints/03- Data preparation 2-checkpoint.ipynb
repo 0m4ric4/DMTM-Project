{
 "cells": [
  {
   "cell_type": "markdown",
   "metadata": {},
   "source": [
    "## Data preparation 2\n",
    "in this notebook we keep the manipulation on the full dataset in order to prepare it to feed the rnn"
   ]
  },
  {
   "cell_type": "markdown",
   "metadata": {},
   "source": [
    "libraries import"
   ]
  },
  {
   "cell_type": "code",
   "execution_count": null,
   "metadata": {},
   "outputs": [],
   "source": [
    "import pandas as pd\n",
    "pd.options.display.max_columns = 100\n",
    "\n",
    "import numpy as np\n",
    "\n",
    "import matplotlib.pyplot as plt\n",
    "# matplotlib inline\n",
    "import warnings\n",
    "warnings.filterwarnings(\"ignore\")"
   ]
  },
  {
   "cell_type": "markdown",
   "metadata": {},
   "source": [
    "then we load the test and train data\n",
    "here we used a dictionary to force the loading of the events columns ( with only 0 and 1) to be int8 and not int64( default)\n",
    "in order to reduce the memory space"
   ]
  },
  {
   "cell_type": "code",
   "execution_count": null,
   "metadata": {},
   "outputs": [],
   "source": [
    "dataframe_dict = pd.read_csv('dict_to_cast_events_when_loading.csv',delimiter = \";\")\n",
    "dictionary = {}\n",
    "for index, row in dataframe_dict.iterrows():\n",
    "    dictionary[row['EVENTO']] = row['TIPO']\n",
    "print(dictionary)\n",
    "\n",
    "train = pd.read_csv('train_final.csv', dtype=dictionary)\n",
    "test = pd.read_csv('test_2019_final.csv', dtype=dictionary)\n",
    "\n",
    "print(train.info())\n",
    "print(test.info())"
   ]
  },
  {
   "cell_type": "markdown",
   "metadata": {},
   "source": [
    "at this point we perform the one-hot-encoding on the weather field, considering all the possible weather conditions in the\n",
    "train and test set together"
   ]
  },
  {
   "cell_type": "code",
   "execution_count": null,
   "metadata": {},
   "outputs": [],
   "source": [
    "df_temp_train = train[['WEATHER']]\n",
    "df_temp_test = test[['WEATHER']]\n",
    "\n",
    "df_temp_train['train'] = 1\n",
    "df_temp_test['train'] = 0\n",
    "\n",
    "df_combined = pd.concat([df_temp_train, df_temp_test])\n",
    "\n",
    "df_combined_encoded = pd.get_dummies(df_combined['WEATHER'])\n",
    "\n",
    "df_combined = pd.concat([df_combined, df_combined_encoded], axis=1)\n",
    "\n",
    "train_encoded = df_combined[df_combined[\"train\"] == 1]\n",
    "test_encoded = df_combined[df_combined[\"train\"] == 0]\n",
    "\n",
    "train_encoded.drop(['train'], axis=1, inplace=True)\n",
    "train_encoded.drop(['WEATHER'], axis=1, inplace=True)\n",
    "test_encoded.drop(['train'], axis=1, inplace=True)\n",
    "test_encoded.drop(['WEATHER'], axis=1, inplace=True)\n",
    "\n",
    "print(train_encoded.info())\n",
    "print(test_encoded.info())"
   ]
  },
  {
   "cell_type": "markdown",
   "metadata": {},
   "source": [
    "now we can delete the columns with reduntant information such the weather and the event_detail because their values have been \n",
    "encoded, the km and key because there is already key_2 attribute, and id of the station"
   ]
  },
  {
   "cell_type": "code",
   "execution_count": null,
   "metadata": {},
   "outputs": [],
   "source": [
    "train.drop('WEATHER', axis=1, inplace=True)\n",
    "train.drop('TEMPERATURE', axis=1, inplace=True)\n",
    "train.drop('MIN_TEMPERATURE', axis=1, inplace=True)\n",
    "train.drop('MAX_TEMPERATURE', axis=1, inplace=True)\n",
    "train.drop('ID', axis=1, inplace=True)\n",
    "train.drop('EVENT_TYPE1', axis=1, inplace=True)\n",
    "train.drop('EVENT_TYPE2', axis=1, inplace=True)\n",
    "train.drop('EVENT_TYPE3', axis=1, inplace=True)\n",
    "train.drop('EVENT_TYPE4', axis=1, inplace=True)\n",
    "train.drop('KEY', axis=1, inplace=True)\n",
    "train.drop('KM', axis=1, inplace=True)\n",
    "\n",
    "test.drop('WEATHER', axis=1, inplace=True)\n",
    "test.drop('TEMPERATURE', axis=1, inplace=True)\n",
    "test.drop('MIN_TEMPERATURE', axis=1, inplace=True)\n",
    "test.drop('MAX_TEMPERATURE', axis=1, inplace=True)\n",
    "test.drop('ID', axis=1, inplace=True)\n",
    "test.drop('EVENT_TYPE1', axis=1, inplace=True)\n",
    "test.drop('EVENT_TYPE2', axis=1, inplace=True)\n",
    "test.drop('KEY', axis=1, inplace=True)\n",
    "test.drop('KM', axis=1, inplace=True)\n",
    "\n",
    "train = pd.concat([train, train_encoded], axis=1)\n",
    "test = pd.concat([test, test_encoded], axis=1)\n",
    "\n",
    "print(train.info())\n",
    "print(train.head(10))\n",
    "\n",
    "print(test.info())\n",
    "print(test.head(10))"
   ]
  },
  {
   "cell_type": "code",
   "execution_count": null,
   "metadata": {},
   "outputs": [],
   "source": [
    "save the data"
   ]
  },
  {
   "cell_type": "code",
   "execution_count": null,
   "metadata": {},
   "outputs": [],
   "source": [
    "train.to_csv('train_final_after_weather_encoding.csv')\n",
    "test.to_csv('test_final_after_weather_encoding.csv')"
   ]
  }
 ],
 "metadata": {
  "kernelspec": {
   "display_name": "Python 2",
   "language": "python",
   "name": "python2"
  },
  "language_info": {
   "codemirror_mode": {
    "name": "ipython",
    "version": 2
   },
   "file_extension": ".py",
   "mimetype": "text/x-python",
   "name": "python",
   "nbconvert_exporter": "python",
   "pygments_lexer": "ipython2",
   "version": "2.7.16"
  }
 },
 "nbformat": 4,
 "nbformat_minor": 2
}
